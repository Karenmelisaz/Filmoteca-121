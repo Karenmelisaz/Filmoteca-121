{
  "nbformat": 4,
  "nbformat_minor": 0,
  "metadata": {
    "colab": {
      "provenance": [],
      "authorship_tag": "ABX9TyNrqA6JDbDARBxjWWijmQuQ",
      "include_colab_link": true
    },
    "kernelspec": {
      "name": "python3",
      "display_name": "Python 3"
    },
    "language_info": {
      "name": "python"
    }
  },
  "cells": [
    {
      "cell_type": "markdown",
      "metadata": {
        "id": "view-in-github",
        "colab_type": "text"
      },
      "source": [
        "<a href=\"https://colab.research.google.com/github/Karenmelisaz/Filmoteca-121/blob/main/Filmoteca_121.ipynb\" target=\"_parent\"><img src=\"https://colab.research.google.com/assets/colab-badge.svg\" alt=\"Open In Colab\"/></a>"
      ]
    },
    {
      "cell_type": "markdown",
      "source": [
        "# Proyecto Cine - Desarrollo de Módulos\n",
        "\n",
        "Este cuaderno está dividido en módulos.  \n",
        "Cada integrante debe trabajar en su sección correspondiente.  \n"
      ],
      "metadata": {
        "id": "63qSW-GjTtcU"
      }
    },
    {
      "cell_type": "code",
      "execution_count": null,
      "metadata": {
        "id": "edJBqdIC5LsH"
      },
      "outputs": [],
      "source": []
    }
  ]
}